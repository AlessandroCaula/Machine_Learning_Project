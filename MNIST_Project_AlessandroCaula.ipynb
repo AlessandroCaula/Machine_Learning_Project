{
  "nbformat": 4,
  "nbformat_minor": 0,
  "metadata": {
    "colab": {
      "name": "MNIST_Project_AlessandroCaula.ipynb",
      "provenance": [],
      "collapsed_sections": [],
      "include_colab_link": true
    },
    "kernelspec": {
      "name": "python3",
      "display_name": "Python 3"
    },
    "accelerator": "GPU"
  },
  "cells": [
    {
      "cell_type": "markdown",
      "metadata": {
        "id": "view-in-github",
        "colab_type": "text"
      },
      "source": [
        "<a href=\"https://colab.research.google.com/github/AlessandroCaula/Machine_Learning_Project/blob/main/MNIST_Project_AlessandroCaula.ipynb\" target=\"_parent\"><img src=\"https://colab.research.google.com/assets/colab-badge.svg\" alt=\"Open In Colab\"/></a>"
      ]
    },
    {
      "cell_type": "markdown",
      "metadata": {
        "id": "NUrC2bM1rSdw"
      },
      "source": [
        "# **Machine Learning analysis of the MNIST database**"
      ]
    },
    {
      "cell_type": "markdown",
      "metadata": {
        "id": "-OwMMwU1uQxm"
      },
      "source": [
        "## **Master course in Bioinformatics**, University of Bologna\n",
        "\n",
        "\n",
        "### Alessandro Caula"
      ]
    },
    {
      "cell_type": "markdown",
      "metadata": {
        "id": "906pz_Zeuph3"
      },
      "source": [
        "## Description of the MNIST digit recognition Project"
      ]
    },
    {
      "cell_type": "markdown",
      "metadata": {
        "id": "df2uwx_TlGpq"
      },
      "source": [
        "The MNIST database (Modified National Institute of Standards and Technology database) is a large dataset that contains tens of thousands of scanned images of handwritten digits between 0 and 9, together with their correct classifications. The images are greyscaled and 28 by 28 pixel (784 total pixels per image).\\\n",
        "This set has been widely studied and it is often called the \"hello world\" of Machine Learning (ML). The task is to classify a given image of a handwritten digit into one of the 10 classes representing the numbers from 0 to 9.\\\n",
        "Different machine learning classification methods can be used on the dataset and we will see how their performances will be different in relatioin to their characteristics.  "
      ]
    },
    {
      "cell_type": "markdown",
      "metadata": {
        "id": "GstyoQgklP0P"
      },
      "source": [
        "## Import modules"
      ]
    },
    {
      "cell_type": "code",
      "metadata": {
        "id": "P_TqGL5KlWsr"
      },
      "source": [
        "# Numpy\n",
        "import numpy as np \n",
        "\n",
        "# Sklearn \n",
        "import sklearn \n",
        "\n",
        "# Matplotlib\n",
        "%matplotlib inline\n",
        "import matplotlib.pyplot as plt\n",
        "import matplotlib as mplt\n",
        "\n",
        "# Pandas\n",
        "import pandas as pd\n",
        "\n",
        "# Seaborn\n",
        "import seaborn as sns "
      ],
      "execution_count": null,
      "outputs": []
    },
    {
      "cell_type": "markdown",
      "metadata": {
        "id": "-r7mGi6NlfNs"
      },
      "source": [
        "## Importing the MNIST dataset "
      ]
    },
    {
      "cell_type": "markdown",
      "metadata": {
        "id": "CBfOru3ml_4h"
      },
      "source": [
        "The first thing to do is to import and load the MNIST dataset, this can be easily done through the Keras API dataset module, that provide the MNIST dataset already vectorized and in Numpy format.\\\n",
        "The database contains 70'000 images and each image has 784 features, representing the 28 by 28 pixel's intesities ranging from 0 (white) to 255 (black). Out of the 70'000 examples, 60'000 are given for the training set and 10'000 are given for the test set.\\\n",
        "When load the dataset, the `images_train` and `images_test` numpy array will contain the handwritten images in greyscale RGB codes, while the `labels_train` and `labels_test` will contain the digits that correspond to the images. \n",
        "\n",
        "\n",
        "\n",
        "\n",
        "\n"
      ]
    },
    {
      "cell_type": "code",
      "metadata": {
        "id": "dV_-lNlcnBLV",
        "colab": {
          "base_uri": "https://localhost:8080/"
        },
        "outputId": "5612f484-09df-474b-e9c0-0fc05b0af24c"
      },
      "source": [
        "from keras.datasets import mnist\n",
        "\n",
        "# Loading the dataset and split it into train and test sets\n",
        "(images_train, labels_train), (images_test, labels_test) = mnist.load_data()\n",
        "\n",
        "# Visualize the shape of the train and test sets\n",
        "print('The shape of the training and testing sets is:')\n",
        "print(f\"Images_train: {images_train.shape} Labels_train: {labels_train.shape}\")\n",
        "print(f\"Images_test:  {images_test.shape}  Labels_test: {labels_test.shape}\")"
      ],
      "execution_count": null,
      "outputs": [
        {
          "output_type": "stream",
          "text": [
            "The shape of the training and testing sets is:\n",
            "Images_train: (60000, 28, 28) Labels_train: (60000,)\n",
            "Images_test:  (10000, 28, 28)  Labels_test: (10000,)\n"
          ],
          "name": "stdout"
        }
      ]
    },
    {
      "cell_type": "markdown",
      "metadata": {
        "id": "NWn-hefg8z_-"
      },
      "source": [
        "## Visualizing and inspecting the data"
      ]
    },
    {
      "cell_type": "markdown",
      "metadata": {
        "id": "iRs42c_6AUV6"
      },
      "source": [
        "It's always good to visualize and familiarize with the dataset.\\\n",
        "I'll first display some of the images present in the `images_train` set matched with their corresponding labels, using the `matplotlib` library."
      ]
    },
    {
      "cell_type": "code",
      "metadata": {
        "colab": {
          "base_uri": "https://localhost:8080/",
          "height": 338
        },
        "id": "w-Vlk5BaCRZ7",
        "outputId": "04482f28-43cf-4ff0-f85e-939bfe670ce0"
      },
      "source": [
        "# Plotting the first 10 images of the training dataset\n",
        "fig, axs = plt.subplots(figsize=(8, 6))\n",
        "\n",
        "for i in range(10):\n",
        "  plt.subplot(2, 5, i + 1)\n",
        "  plt.imshow(images_train[i], cmap='gray_r')\n",
        "  plt.title(f'label: {labels_train[i]}')\n",
        "plt.tight_layout()\n",
        "plt.show()"
      ],
      "execution_count": null,
      "outputs": [
        {
          "output_type": "display_data",
          "data": {
            "image/png": "[encoded data removed]",
            "text/plain": [
              "<Figure size 576x432 with 10 Axes>"
            ]
          },
          "metadata": {
            "needs_background": "light"
          }
        }
      ]
    },
    {
      "cell_type": "markdown",
      "metadata": {
        "id": "_OvE1-7HtNfH"
      },
      "source": [
        "In the plots all the images of handwritten digits correctly correspond to their labels."
      ]
    },
    {
      "cell_type": "markdown",
      "metadata": {
        "id": "81oCOMdZrQx3"
      },
      "source": [
        "We can also visualize how each number image is in detail represented using the heatmap graph representation."
      ]
    },
    {
      "cell_type": "code",
      "metadata": {
        "colab": {
          "base_uri": "https://localhost:8080/",
          "height": 482
        },
        "id": "q5sKeYIlqk0x",
        "outputId": "068e17d5-895a-456d-f960-53830408a212"
      },
      "source": [
        "print(f'The image of the number {labels_train[0]} is represented as: \\n')\n",
        "\n",
        "# Plotting the first number of the training dataset\n",
        "plt.figure(figsize=(7, 7))\n",
        "\n",
        "sns.heatmap(images_train[0], cmap='gray_r')"
      ],
      "execution_count": null,
      "outputs": [
        {
          "output_type": "stream",
          "text": [
            "The image of the number 5 is represented as: \n",
            "\n"
          ],
          "name": "stdout"
        },
        {
          "output_type": "execute_result",
          "data": {
            "text/plain": [
              "<matplotlib.axes._subplots.AxesSubplot at 0x7f0c963042d0>"
            ]
          },
          "metadata": {},
          "execution_count": 7
        },
        {
          "output_type": "display_data",
          "data": {
            "image/png": "[encoded data removed]",
            "text/plain": [
              "<Figure size 504x504 with 2 Axes>"
            ]
          },
          "metadata": {
            "needs_background": "light"
          }
        }
      ]
    },
    {
      "cell_type": "markdown",
      "metadata": {
        "id": "P8LRGteIEnuy"
      },
      "source": [
        "As we have already said and we can see here, the image is characterize with a 28 by 28 grid of pixel's intesity values ranging from 0 (white) to 255 (black)."
      ]
    },
    {
      "cell_type": "markdown",
      "metadata": {
        "id": "Rq6wcQJcMJn0"
      },
      "source": [
        "We can now inspect if all the 10 classes (digit from 0 to 9) are equally represented in both the traininng and testing dataset by plotting their distribution, with the `seaborn` library."
      ]
    },
    {
      "cell_type": "code",
      "metadata": {
        "colab": {
          "base_uri": "https://localhost:8080/",
          "height": 999
        },
        "id": "fFA-kh6miZz5",
        "outputId": "7c25e7ad-489f-49a0-d3c4-f27d98faf78a"
      },
      "source": [
        "fig, ax = plt.subplots(2, 1, figsize=(12, 15))\n",
        "\n",
        "# Countplot of the train dataset\n",
        "countplot_train = sns.countplot(labels_train, ax=ax[0])\n",
        "countplot_train.set(xlabel='Labels', ylabel='Label Count')\n",
        "countplot_train.set_title('Train Dataset Countplot', \n",
        "                          fontdict={'fontsize': 15, 'fontweight': 'bold'})\n",
        "\n",
        "# Countplot of the test dataset\n",
        "countplot_test = sns.countplot(labels_test, ax=ax[1])\n",
        "countplot_test.set(xlabel='Labels', ylabel='Label Count')\n",
        "countplot_test.set_title('Test Dataset Countplot', \n",
        "                         fontdict={'fontsize': 15, 'fontweight': 'bold'})"
      ],
      "execution_count": null,
      "outputs": [
        {
          "output_type": "stream",
          "text": [
            "/usr/local/lib/python3.7/dist-packages/seaborn/_decorators.py:43: FutureWarning: Pass the following variable as a keyword arg: x. From version 0.12, the only valid positional argument will be `data`, and passing other arguments without an explicit keyword will result in an error or misinterpretation.\n",
            "  FutureWarning\n",
            "/usr/local/lib/python3.7/dist-packages/seaborn/_decorators.py:43: FutureWarning: Pass the following variable as a keyword arg: x. From version 0.12, the only valid positional argument will be `data`, and passing other arguments without an explicit keyword will result in an error or misinterpretation.\n",
            "  FutureWarning\n"
          ],
          "name": "stderr"
        },
        {
          "output_type": "execute_result",
          "data": {
            "text/plain": [
              "Text(0.5, 1.0, 'Test Dataset Countplot')"
            ]
          },
          "metadata": {
            "tags": []
          },
          "execution_count": 16
        },
        {
          "output_type": "display_data",
          "data": {
            "image/png": "[encoded data removed]",
            "text/plain": [
              "<Figure size 864x1080 with 2 Axes>"
            ]
          },
          "metadata": {
            "tags": [],
            "needs_background": "light"
          }
        }
      ]
    },
    {
      "cell_type": "markdown",
      "metadata": {
        "id": "1F4Daq4qNnD_"
      },
      "source": [
        "As we can see in this plot the distribution of the different classes in both the train and test set is quite uniform, only the digit \"1\" is a little bit overrepresented, but this should not affect the performances of the classification models."
      ]
    },
    {
      "cell_type": "markdown",
      "metadata": {
        "id": "SkKyTM9sOVNx"
      },
      "source": [
        "## **Decision Tree**"
      ]
    },
    {
      "cell_type": "markdown",
      "metadata": {
        "id": "8HfjsvYhKxeT"
      },
      "source": [
        "The first Machine Learning method that I will test, uses the construction of a Decision Tree. This approach belogs to the category of the supervised machine learning methods and the models can be used for both classification and regression problems.\\\n",
        "A decision tree is represented with a tree structure where each internal node denotes a test on an attribute, each branch represent the outcome of the test and each leaf holds a class label.  "
      ]
    },
    {
      "cell_type": "code",
      "metadata": {
        "colab": {
          "base_uri": "https://localhost:8080/"
        },
        "id": "Hx9MaViih864",
        "outputId": "0bffce20-6366-4fdb-e01d-4611a799f771"
      },
      "source": [
        "# First formatting (flattening) the training and testing matrix inputs\n",
        "images_train_flt = images_train.flatten().reshape(60000, 784)\n",
        "images_test_flt = images_test.flatten().reshape(10000, 784)\n",
        "print(\"Images_train_flt shape: {}\".format(images_train_flt.shape))\n",
        "print(\"Images_test_flt shape: {}\".format(images_test_flt.shape))"
      ],
      "execution_count": null,
      "outputs": [
        {
          "output_type": "stream",
          "text": [
            "Images_train_flt shape: (60000, 784)\n",
            "Images_test_flt shape: (10000, 784)\n"
          ],
          "name": "stdout"
        }
      ]
    },
    {
      "cell_type": "code",
      "metadata": {
        "colab": {
          "base_uri": "https://localhost:8080/"
        },
        "id": "NOtpZOn1NQcC",
        "outputId": "7fc4c872-4dcc-43ee-e6ff-fbc059aad546"
      },
      "source": [
        "# Importing the DecisionTreeClassifier modules\n",
        "from sklearn.tree import DecisionTreeClassifier\n",
        "\n",
        "# Building the Decision Tree model with the training set\n",
        "dt_classifier = DecisionTreeClassifier()\n",
        "\n",
        "# Fitting the Decision Tree with the raining dataset\n",
        "dt_classifier.fit(images_train_flt, labels_train)"
      ],
      "execution_count": null,
      "outputs": [
        {
          "output_type": "execute_result",
          "data": {
            "text/plain": [
              "DecisionTreeClassifier(ccp_alpha=0.0, class_weight=None, criterion='gini',\n",
              "                       max_depth=None, max_features=None, max_leaf_nodes=None,\n",
              "                       min_impurity_decrease=0.0, min_impurity_split=None,\n",
              "                       min_samples_leaf=1, min_samples_split=2,\n",
              "                       min_weight_fraction_leaf=0.0, presort='deprecated',\n",
              "                       random_state=None, splitter='best')"
            ]
          },
          "metadata": {},
          "execution_count": 4
        }
      ]
    },
    {
      "cell_type": "markdown",
      "metadata": {
        "id": "Q8ZfQC-vdZkR"
      },
      "source": [
        "Now that I have built and trained the model with the training set, I can predict the classes of the test set and evaluate the predictions of the Decision Tree Classifier model."
      ]
    },
    {
      "cell_type": "code",
      "metadata": {
        "colab": {
          "base_uri": "https://localhost:8080/"
        },
        "id": "0k0sPFzOdtrP",
        "outputId": "5cec0d9a-5b1b-4681-b3e6-ba2dc7f4843b"
      },
      "source": [
        "# Predicting the labels of the test set images with the Decision Tree model\n",
        "dt_labels_pred = dt_classifier.predict(images_test_flt)\n",
        "\n",
        "# Printing 20 of the actual labels of the testing set compared to the predicted labels \n",
        "print(\"Actual classes:   \", labels_test[:29])\n",
        "print(\"Predicted classes:\", dt_labels_pred[:29])"
      ],
      "execution_count": null,
      "outputs": [
        {
          "output_type": "stream",
          "text": [
            "Actual classes:    [7 2 1 0 4 1 4 9 5 9 0 6 9 0 1 5 9 7 3 4 9 6 6 5 4 0 7 4 0]\n",
            "Predicted classes: [7 2 1 0 4 1 4 0 5 9 0 6 9 0 1 5 9 7 6 4 9 6 6 5 4 0 7 4 0]\n"
          ],
          "name": "stdout"
        }
      ]
    },
    {
      "cell_type": "markdown",
      "metadata": {
        "id": "t621d2jH3MJ6"
      },
      "source": [
        "As we can see from these first 30 labels predicted most of them are in agreement with the actual labels of the images.  "
      ]
    },
    {
      "cell_type": "markdown",
      "metadata": {
        "id": "X8XispfK8lkg"
      },
      "source": [
        "Now that we have the predicted class of the test set we can compute the confusion matrix and all the evaluation metrics in which we are interested in order to evaluate the preformances of the Decision Tree model. "
      ]
    },
    {
      "cell_type": "code",
      "metadata": {
        "colab": {
          "base_uri": "https://localhost:8080/",
          "height": 474
        },
        "id": "Nto0qIXxeJNA",
        "outputId": "4328d8df-89b8-46b9-f72d-d237d45e0d90"
      },
      "source": [
        "from sklearn.metrics import confusion_matrix\n",
        "\n",
        "# Computing the confusion matrix with the actual and predicted labels\n",
        "dt_cf_matrix = confusion_matrix(labels_test, dt_labels_pred)\n",
        "\n",
        "# Printing the confusion matrix as an heatmap\n",
        "plt.figure(figsize=(10, 7))\n",
        "sns.set(font_scale=1.3)\n",
        "sns.set_style('ticks')\n",
        "ax = sns.heatmap(dt_cf_matrix, \n",
        "            annot=True, \n",
        "            fmt=\"d\", \n",
        "            annot_kws={\"size\": 14}, \n",
        "            cmap='Blues',\n",
        "            linewidths=1,\n",
        "            linecolor='black')\n",
        "\n",
        "ax.invert_yaxis()\n",
        "plt.yticks(rotation=0) \n",
        "plt.xlabel(\"Predicted\", fontdict={'fontsize': 17})\n",
        "plt.ylabel(\"Actual\", fontdict={'fontsize': 17})"
      ],
      "execution_count": null,
      "outputs": [
        {
          "output_type": "execute_result",
          "data": {
            "text/plain": [
              "Text(62.5, 0.5, 'Actual')"
            ]
          },
          "metadata": {
            "tags": []
          },
          "execution_count": 40
        },
        {
          "output_type": "display_data",
          "data": {
            "image/png": "[encoded data removed]",
            "text/plain": [
              "<Figure size 720x504 with 2 Axes>"
            ]
          },
          "metadata": {
            "tags": []
          }
        }
      ]
    },
    {
      "cell_type": "markdown",
      "metadata": {
        "id": "LygZ9nVn2dAt"
      },
      "source": [
        "The Confusion Matrix shows how most of the images are correctly classified, even if there are still some misclassification. We can agree that the classification capability of the model is not bad. "
      ]
    },
    {
      "cell_type": "code",
      "metadata": {
        "colab": {
          "base_uri": "https://localhost:8080/"
        },
        "id": "hstFS8oce6HW",
        "outputId": "0eb4c06b-fb4c-436b-df2f-da6f6146558a"
      },
      "source": [
        "from sklearn.metrics import classification_report, accuracy_score, roc_auc_score\n",
        "\n",
        "# Computing the Classification Report\n",
        "c_report = classification_report(labels_test, dt_labels_pred)\n",
        "print(\"Classificatio Report:\")\n",
        "print()\n",
        "print(c_report)"
      ],
      "execution_count": null,
      "outputs": [
        {
          "output_type": "stream",
          "text": [
            "Classificatio Report:\n",
            "\n",
            "              precision    recall  f1-score   support\n",
            "\n",
            "           0       0.92      0.94      0.93       980\n",
            "           1       0.95      0.96      0.95      1135\n",
            "           2       0.86      0.86      0.86      1032\n",
            "           3       0.84      0.85      0.84      1010\n",
            "           4       0.88      0.87      0.87       982\n",
            "           5       0.84      0.84      0.84       892\n",
            "           6       0.90      0.89      0.90       958\n",
            "           7       0.91      0.90      0.91      1028\n",
            "           8       0.82      0.81      0.82       974\n",
            "           9       0.85      0.85      0.85      1009\n",
            "\n",
            "    accuracy                           0.88     10000\n",
            "   macro avg       0.88      0.88      0.88     10000\n",
            "weighted avg       0.88      0.88      0.88     10000\n",
            "\n"
          ],
          "name": "stdout"
        }
      ]
    },
    {
      "cell_type": "markdown",
      "metadata": {
        "id": "mP9AjkFfwggx"
      },
      "source": [
        "From the Classificatio Report we can see some of the evaluation metrics (precision, recall and f1-score) computed both for each of the 10 digit classes present in the MNIST dataset and averaged between them. The `support` entry specifies the number of actual occurrences of the class in the dataset. "
      ]
    },
    {
      "cell_type": "code",
      "metadata": {
        "colab": {
          "base_uri": "https://localhost:8080/"
        },
        "id": "5oiC6udySR-4",
        "outputId": "5186a418-1d85-4af0-bf70-93060f3c1260"
      },
      "source": [
        "# Computing the accuracy of the model \n",
        "acc = accuracy_score(labels_test, dt_labels_pred)\n",
        "print(f\"- Accuracy of the model: {acc} \\n\")\n",
        "\n",
        "\n",
        "# To compute the Area Under the ROC Curve I first have to binarize the labels of the actual and predicted classes.\n",
        "# For example the label '7' will be represented as [0 0 0 0 0 0 0 1 0 0]\n",
        "from sklearn.preprocessing import label_binarize\n",
        "\n",
        "# Label to binarize \n",
        "labels = [0, 1, 2, 3, 4, 5, 6, 7, 8, 9]\n",
        "\n",
        "# Binarize the labels_test\n",
        "labels_test_bin = label_binarize(labels_test, classes=labels)\n",
        "\n",
        "# Binarize the dt_labels_pred\n",
        "dt_labels_pred_bin = label_binarize(dt_labels_pred, classes=labels)\n",
        "\n",
        "# Computing the AUC for each labels in a One-Vs-Rest fashion\n",
        "roc = roc_auc_score(labels_test_bin, dt_labels_pred_bin, average=None, multi_class='ovr')\n",
        "\n",
        "print('- AUC score for each of the classes:')\n",
        "for i, lab in enumerate(labels):\n",
        "  print(f'class: {lab} -> AUC: {roc[i]}')\n",
        "print(f'\\n- Average AUC score: {np.mean(roc):.4}')"
      ],
      "execution_count": null,
      "outputs": [
        {
          "output_type": "stream",
          "text": [
            "- Accuracy of the model: 0.8782 \n",
            "\n",
            "- AUC score for each of the classes:\n",
            "class: 0 -> AUC: 0.9646760034390698\n",
            "class: 1 -> AUC: 0.9745894735272853\n",
            "class: 2 -> AUC: 0.9236575005705039\n",
            "class: 3 -> AUC: 0.9159038095133206\n",
            "class: 4 -> AUC: 0.928173523963614\n",
            "class: 5 -> AUC: 0.9130589872206171\n",
            "class: 6 -> AUC: 0.9391777134679776\n",
            "class: 7 -> AUC: 0.945915611214136\n",
            "class: 8 -> AUC: 0.8946422632131407\n",
            "class: 9 -> AUC: 0.9163918350681923\n",
            "\n",
            "- Average AUC score: 0.9316\n"
          ],
          "name": "stdout"
        }
      ]
    },
    {
      "cell_type": "markdown",
      "metadata": {
        "id": "SSufd2tOkV3n"
      },
      "source": [
        "An accuracy of 87% and an AUC score of 0.93 denotes indeed that the model performances are not bad. However, we'll see that there are other ML classification models that can perform much better. "
      ]
    },
    {
      "cell_type": "markdown",
      "metadata": {
        "id": "V40Ccch3PfLl"
      },
      "source": [
        "## **Random forest**"
      ]
    },
    {
      "cell_type": "markdown",
      "metadata": {
        "id": "gY4saozNPoC0"
      },
      "source": [
        "Random forest is an ensemble supervised learning algorithm that can be used for both classification and regression problems.\\\n",
        "The model works by constructing a moltitude of uncorrelated decision trees at training time and it will outputting, in case of the classification problems, the class that is the \"most voted\" of the classes predicted from all the decisions tree belonging to the random forest, and the mean/average prediction of the individual trees when performing regression problems.\\\n",
        "Random forest generally outperform decision trees since they are less prone to overfitting. "
      ]
    },
    {
      "cell_type": "code",
      "metadata": {
        "colab": {
          "base_uri": "https://localhost:8080/"
        },
        "id": "ti-JdzK-SfHX",
        "outputId": "cd539447-3265-4375-9ab6-ae90e29cc085"
      },
      "source": [
        "# Importing RandomForestClassifier module\n",
        "from sklearn.ensemble import RandomForestClassifier\n",
        "\n",
        "# Building the Random Forest Classifier with 100 estimators (number of Decision tree in the Random Forest enseble)\n",
        "rf_classifier = RandomForestClassifier(n_estimators=100)\n",
        "\n",
        "# Training the Random Forest ensemble with the training dataset\n",
        "rf_classifier.fit(images_train_flt, labels_train) "
      ],
      "execution_count": null,
      "outputs": [
        {
          "output_type": "execute_result",
          "data": {
            "text/plain": [
              "RandomForestClassifier(bootstrap=True, ccp_alpha=0.0, class_weight=None,\n",
              "                       criterion='gini', max_depth=None, max_features='auto',\n",
              "                       max_leaf_nodes=None, max_samples=None,\n",
              "                       min_impurity_decrease=0.0, min_impurity_split=None,\n",
              "                       min_samples_leaf=1, min_samples_split=2,\n",
              "                       min_weight_fraction_leaf=0.0, n_estimators=100,\n",
              "                       n_jobs=None, oob_score=False, random_state=None,\n",
              "                       verbose=0, warm_start=False)"
            ]
          },
          "metadata": {},
          "execution_count": 5
        }
      ]
    },
    {
      "cell_type": "markdown",
      "metadata": {
        "id": "kpWTvBQqXUGn"
      },
      "source": [
        "Now that I've build and trained the random forest classifier I can predict the classes of the testing set and evaluate the preformances of the model. "
      ]
    },
    {
      "cell_type": "code",
      "metadata": {
        "colab": {
          "base_uri": "https://localhost:8080/"
        },
        "id": "KuJwFi4-XtnJ",
        "outputId": "8cfe4d7e-ce23-47a2-fc35-bb4343a2bc13"
      },
      "source": [
        "# Predicting the classes of the images of the testing set\n",
        "rf_labels_pred = rf_classifier.predict(images_test_flt)\n",
        "\n",
        "# I'll print 30 of the actual classes compared to the predicted classes\n",
        "print(\"Actual classes:   \", labels_test[:29])\n",
        "print(\"Predicted classes:\", rf_labels_pred[:29])"
      ],
      "execution_count": null,
      "outputs": [
        {
          "output_type": "stream",
          "text": [
            "Actual classes:    [7 2 1 0 4 1 4 9 5 9 0 6 9 0 1 5 9 7 3 4 9 6 6 5 4 0 7 4 0]\n",
            "Predicted classes: [7 2 1 0 4 1 4 9 5 9 0 6 9 0 1 5 9 7 3 4 9 6 6 5 4 0 7 4 0]\n"
          ],
          "name": "stdout"
        }
      ]
    },
    {
      "cell_type": "markdown",
      "metadata": {
        "id": "dPob7fn5Y1T7"
      },
      "source": [
        "I can now generate the confusion matrix and evaluate the model performances comparing its evaluation metrics with the one obtained from the decision tree model."
      ]
    },
    {
      "cell_type": "code",
      "metadata": {
        "colab": {
          "base_uri": "https://localhost:8080/",
          "height": 474
        },
        "id": "pSQjf3ePaJMD",
        "outputId": "1279197a-a952-4777-ebc7-6a7a4d673e4d"
      },
      "source": [
        "from sklearn.metrics import confusion_matrix\n",
        "\n",
        "# Computing the confusion matrix with the actual and predicted labels\n",
        "rf_cf_matrix = confusion_matrix(labels_test, rf_labels_pred)\n",
        "\n",
        "# Printing the confusion matrix as an heatmap\n",
        "plt.figure(figsize=(10, 7))\n",
        "sns.set(font_scale=1.3)\n",
        "sns.set_style('ticks')\n",
        "ax = sns.heatmap(rf_cf_matrix, \n",
        "                annot=True, \n",
        "                fmt=\"d\", \n",
        "                annot_kws={\"size\": 14}, \n",
        "                cmap='Blues',\n",
        "                linewidths=1,\n",
        "                linecolor='black')\n",
        "\n",
        "ax.invert_yaxis()\n",
        "plt.yticks(rotation=0) \n",
        "plt.xlabel(\"Predicted\", fontdict={'fontsize': 17})\n",
        "plt.ylabel(\"Actual\", fontdict={'fontsize': 17})"
      ],
      "execution_count": null,
      "outputs": [
        {
          "output_type": "execute_result",
          "data": {
            "text/plain": [
              "Text(62.5, 0.5, 'Actual')"
            ]
          },
          "metadata": {},
          "execution_count": 11
        },
        {
          "output_type": "display_data",
          "data": {
            "image/png": "[encoded data removed]",
            "text/plain": [
              "<Figure size 720x504 with 2 Axes>"
            ]
          },
          "metadata": {
            "needs_background": "light"
          }
        }
      ]
    },
    {
      "cell_type": "markdown",
      "metadata": {
        "id": "JyzSc5z9kEXR"
      },
      "source": [
        "As shown in the Confusion Matrix almost all the  images of the test set are correctly predicted with their correct labels (digit).\\\n",
        "We can also already see that the correctly predicted classes are higher that the one obtained from the decision tree."
      ]
    },
    {
      "cell_type": "code",
      "metadata": {
        "colab": {
          "base_uri": "https://localhost:8080/"
        },
        "id": "aSCBrQzIcxbK",
        "outputId": "2b6cb60b-273c-4af6-a97b-0cc9a2b69e91"
      },
      "source": [
        "from sklearn.metrics import classification_report\n",
        "\n",
        "# Computing the Classification Report\n",
        "c_report = classification_report(labels_test, rf_labels_pred)\n",
        "print(\"Classificatio Report:\")\n",
        "print()\n",
        "print(c_report)"
      ],
      "execution_count": null,
      "outputs": [
        {
          "output_type": "stream",
          "text": [
            "Classificatio Report:\n",
            "\n",
            "              precision    recall  f1-score   support\n",
            "\n",
            "           0       0.97      0.99      0.98       980\n",
            "           1       0.99      0.99      0.99      1135\n",
            "           2       0.96      0.97      0.97      1032\n",
            "           3       0.96      0.97      0.96      1010\n",
            "           4       0.97      0.97      0.97       982\n",
            "           5       0.98      0.96      0.97       892\n",
            "           6       0.97      0.97      0.97       958\n",
            "           7       0.97      0.96      0.97      1028\n",
            "           8       0.96      0.95      0.96       974\n",
            "           9       0.96      0.95      0.95      1009\n",
            "\n",
            "    accuracy                           0.97     10000\n",
            "   macro avg       0.97      0.97      0.97     10000\n",
            "weighted avg       0.97      0.97      0.97     10000\n",
            "\n"
          ],
          "name": "stdout"
        }
      ]
    },
    {
      "cell_type": "markdown",
      "metadata": {
        "id": "F7bzB1HckiZk"
      },
      "source": [
        "Printing Accuracy and AUC score for the random forest classifier."
      ]
    },
    {
      "cell_type": "code",
      "metadata": {
        "colab": {
          "base_uri": "https://localhost:8080/"
        },
        "id": "RDlH1pnBIh3C",
        "outputId": "84fe605f-1bf3-4e01-cdb3-894f380246f1"
      },
      "source": [
        "from sklearn.metrics import accuracy_score, roc_auc_score\n",
        "from sklearn.preprocessing import label_binarize\n",
        "\n",
        "# Computing the accuracy of the model \n",
        "acc = accuracy_score(labels_test, rf_labels_pred)\n",
        "print(f\"- Accuracy of the model: {acc} \\n\")\n",
        "\n",
        "# To compute the Area Under the ROC Curve I first have to binarize the labels of the actual and predicted classes.\n",
        "# For example the label '7' will be represented as [0 0 0 0 0 0 0 1 0 0]\n",
        "\n",
        "# Label to binarize \n",
        "labels = [0, 1, 2, 3, 4, 5, 6, 7, 8, 9]\n",
        "\n",
        "# Binarize the labels_test\n",
        "labels_test_bin = label_binarize(labels_test, classes=labels)\n",
        "\n",
        "# Binarize the dt_labels_pred\n",
        "rf_labels_pred_bin = label_binarize(rf_labels_pred, classes=labels)\n",
        "\n",
        "# Computing the AUC for each labels in a One-Vs-Rest fashion\n",
        "roc = roc_auc_score(labels_test_bin, rf_labels_pred_bin, average=None, multi_class='ovr')\n",
        "\n",
        "print('- AUC score for each of the classes:')\n",
        "for i, lab in enumerate(labels):\n",
        "  print(f'class: {lab} -> AUC: {roc[i]}')\n",
        "print(f'\\n- Average AUC score: {np.mean(roc):.4}')"
      ],
      "execution_count": null,
      "outputs": [
        {
          "output_type": "stream",
          "text": [
            "- Accuracy of the model: 0.9691 \n",
            "\n",
            "- AUC score for each of the classes:\n",
            "class: 0 -> AUC: 0.9928910810443912\n",
            "class: 1 -> AUC: 0.9940932390159788\n",
            "class: 2 -> AUC: 0.9823217261719533\n",
            "class: 3 -> AUC: 0.9819337217370235\n",
            "class: 4 -> AUC: 0.9841354855349269\n",
            "class: 5 -> AUC: 0.9802945126838674\n",
            "class: 6 -> AUC: 0.9860361689522198\n",
            "class: 7 -> AUC: 0.9793035314363233\n",
            "class: 8 -> AUC: 0.9746835630219066\n",
            "class: 9 -> AUC: 0.971289481310404\n",
            "\n",
            "- Average AUC score: 0.9827\n"
          ],
          "name": "stdout"
        }
      ]
    },
    {
      "cell_type": "markdown",
      "metadata": {
        "id": "1s8jhVLZee_B"
      },
      "source": [
        "The accuracy has reached a remarkable 97% and the AUC score is 0.98, as we expeted this highlights a significantly increase of the classification performances in respect to the ones obtained with the decision tree model. "
      ]
    },
    {
      "cell_type": "markdown",
      "metadata": {
        "id": "GsZSiraAMv_A"
      },
      "source": [
        "## **Cross-validation procedure**"
      ]
    },
    {
      "cell_type": "markdown",
      "metadata": {
        "id": "cNjskBZpNN0O"
      },
      "source": [
        "Cross Validation (CV) is a resampling technique used for assessing the effectiveness and consistency of the model performances, particularly in cases where it's important to mitigate overfitting.\\\n",
        "Here I used the k-fold cross validation method that taken the original training set it is randomly partitioned into *k* (*k*=10 in this case) subsamples of equal size. Of these *k* subsamples, a single subsample is retained as the testing set for the model, that is trained using the remaining *k-1* subsamples. The cross-validation procedure is repeated *k* times, with each of the *k* subsamples used exactly once as the validation dataset.   "
      ]
    },
    {
      "cell_type": "markdown",
      "metadata": {
        "id": "vCpLhEkXj_hq"
      },
      "source": [
        "I will perform the cross validation procedure with the Decision Tree and the Random Forest Classifiers.  \n",
        "Since our dataset is made up with lots of example (70000 images) we are able to perform a 10-fold cross vaidation, that is the gold standard for the number of folds in the cross validations procedure.  \n",
        "If the dataset was smaller we should have also try the 5-fold cross validation. "
      ]
    },
    {
      "cell_type": "code",
      "metadata": {
        "id": "Soc26WRXfuWc"
      },
      "source": [
        "from sklearn.model_selection import cross_val_score\n",
        "\n",
        "# Data preparation\n",
        "# Joining the training and the testing sets of both the images and the labels\n",
        "tot_images_flt = np.vstack((images_train_flt, images_test_flt))\n",
        "tot_labels = np.concatenate((labels_train, labels_test))\n",
        "\n",
        "# Defining two dictionaries in which the results will be stored \n",
        "results_dt = {}\n",
        "results_rf = {}\n",
        "\n",
        "# Defining an array with the metric scores in which we are interested\n",
        "scores = ['accuracy', 'roc_auc_ovr']\n",
        "\n",
        "# Cross-validation with Decision Tree\n",
        "for metric in scores:\n",
        "  result_cv_dt = cross_val_score(dt_classifier, tot_images_flt, tot_labels, cv=10, scoring=metric)\n",
        "  results_dt[metric] = result_cv_dt\n",
        "\n",
        "# Cross-validation with Random Forest\n",
        "for metric in scores:\n",
        "  result_cv_rf = cross_val_score(rf_classifier, tot_images_flt, tot_labels, cv=10, scoring=metric)\n",
        "  results_rf[metric] = result_cv_rf"
      ],
      "execution_count": null,
      "outputs": []
    },
    {
      "cell_type": "markdown",
      "metadata": {
        "id": "YzEygNfmMTlw"
      },
      "source": [
        "Printing the results:"
      ]
    },
    {
      "cell_type": "code",
      "metadata": {
        "colab": {
          "base_uri": "https://localhost:8080/"
        },
        "id": "HZM4Zn4jF445",
        "outputId": "f79f351a-a282-4c6b-b989-56d5b0db89b4"
      },
      "source": [
        "print('- DECISION TREE')\n",
        "# print(f'\\nThe Accuracy of each of the 10 fold cross validation are:')\n",
        "# for i, val in enumerate(results_dt['accuracy'], 1):\n",
        "#   print(f'{i}° cv -> {val}')\n",
        "print('\\nThe mean Accuracy of the 10 fold cross validation accuracy results is:', np.mean(results_dt['accuracy']))\n",
        "print('\\nThe mean AUC score of the 10 fold cross validation AUC results is:', np.mean(results_dt['roc_auc_ovr']))\n",
        "\n",
        "print('\\n- RANDOM FOREST')\n",
        "print('\\nThe mean Accuracy of the 10 fold cross validation accuracy results is:', np.mean(results_rf['accuracy']))\n",
        "print('\\nThe mean AUC score of the 10 fold cross validation AUC results is:', np.mean(results_rf['roc_auc_ovr']))\n"
      ],
      "execution_count": null,
      "outputs": [
        {
          "output_type": "stream",
          "text": [
            "- DECISION TREE\n",
            "\n",
            "The mean Accuracy of the 10 fold cross validation accuracy results is: 0.8732428571428571\n",
            "\n",
            "The mean AUC score of the 10 fold cross validation AUC results is: 0.9288820656440654\n",
            "\n",
            "- RANDOM FOREST\n",
            "\n",
            "The mean Accuracy of the 10 fold cross validation accuracy results is: 0.9688714285714287\n",
            "\n",
            "The mean AUC score of the 10 fold cross validation AUC results is: 0.9990291259682389\n"
          ],
          "name": "stdout"
        }
      ]
    },
    {
      "cell_type": "markdown",
      "metadata": {
        "id": "iCk2pp4GiEh8"
      },
      "source": [
        "For both the models that have been 10-fold cross validated the mean accuracy and AUC score obtained are very similar to the accuracy and AUC score achieved from the models when we have used a simple train/test split.\\\n",
        "This indicates a general consistency of the model performances in predicting the classes of the MNIST images and that there is no effect of overfitting during the training phase of the models. "
      ]
    },
    {
      "cell_type": "markdown",
      "metadata": {
        "id": "kgQUY0bJwOcV"
      },
      "source": [
        "## **CNN**"
      ]
    },
    {
      "cell_type": "markdown",
      "metadata": {
        "id": "wPyw4VmZwQ8K"
      },
      "source": [
        "Convolutional Neural Network (CNN) are one of the most common classes of Machine Learning models used to analyse visual images like the MNIST dataset.\\\n",
        "CNN are composed of multiple layers of artificial neurons, where the behavior of each neuron is defined by its weights. When fed with the pixel values of an image, the artificial neurons of a CNN pick out various visual features learning how to extract them, and eventually infer what object they constitute.\\\n",
        "The general architecture of CNN consists of an input and output layer, together with multiple hidden layers. The hidden layers are either convulutional, pooling, flattening or fully connected layers."
      ]
    },
    {
      "cell_type": "markdown",
      "metadata": {
        "id": "shVIL2EWf5K9"
      },
      "source": [
        "## Preparing the data"
      ]
    },
    {
      "cell_type": "markdown",
      "metadata": {
        "id": "HCgG9VuRUlCh"
      },
      "source": [
        "#### Normalization"
      ]
    },
    {
      "cell_type": "markdown",
      "metadata": {
        "id": "R4NXWqbfim1p"
      },
      "source": [
        "First thing to do before the construction of the model is the preparation of the data by performing a normalization of 28x28 greyscale values, dividing by 255 the RGB codes of each pixel in `images_train` and `images_test`, we'll therefore obtain intesity values of the pixels between 0 and 1. Indeed CNN converg faster on [0..1] data than [0..255]. "
      ]
    },
    {
      "cell_type": "code",
      "metadata": {
        "id": "xDDc_tM4lMqb"
      },
      "source": [
        "# Normalizing the data\n",
        "images_train = images_train / 255.0\n",
        "images_test = images_test / 255.0"
      ],
      "execution_count": null,
      "outputs": []
    },
    {
      "cell_type": "markdown",
      "metadata": {
        "id": "FCCdh0cSUvcR"
      },
      "source": [
        "#### Reshaping "
      ]
    },
    {
      "cell_type": "markdown",
      "metadata": {
        "id": "mB-BRgWNsDID"
      },
      "source": [
        "I also wanto the reshape both the `images_train` and `images_test` arrays in 4-Dimensions numpy arrays (n° of examples, height=28px, width=28px, canal=1).\\\n",
        "In this way I will be able to work with the Keras API. Keras requires an extra dimension in the end which correspond to the canal, and since MNIST images are gray scaled it is used only one channel."
      ]
    },
    {
      "cell_type": "code",
      "metadata": {
        "colab": {
          "base_uri": "https://localhost:8080/"
        },
        "id": "0dkTcjdjsogK",
        "outputId": "c142d264-4df7-4980-afe8-143a33f1ab44"
      },
      "source": [
        "# Reshaping the arrays\n",
        "images_train_3d = images_train.reshape(images_train.shape[0], 28, 28, 1)\n",
        "images_test_3d = images_test.reshape(images_test.shape[0], 28, 28, 1)\n",
        "print(\"Images training:\", images_train_3d.shape)\n",
        "print(\"Images testing:\", images_test_3d.shape)"
      ],
      "execution_count": null,
      "outputs": [
        {
          "output_type": "stream",
          "text": [
            "Images training: (60000, 28, 28, 1)\n",
            "Images testing: (10000, 28, 28, 1)\n"
          ],
          "name": "stdout"
        }
      ]
    },
    {
      "cell_type": "markdown",
      "metadata": {
        "id": "UVwuR6e7U6qw"
      },
      "source": [
        "#### Converting to hot vectors"
      ]
    },
    {
      "cell_type": "markdown",
      "metadata": {
        "id": "-kFQ0inwtiq4"
      },
      "source": [
        "Another important procedure is to convert the labels digits (numbers from 0 to 9) of the training and test labels arrays into hot vectors.\\\n",
        "This can be achieved using the `keras.utils.to_categorical` module which creates a binary vector as long as the number of classes that we have (10) in which there will be all zero values except the index of the integer, which is marked with a 1 (ex: 2 $\\rightarrow$ [0,0,1,0,0,0,0,0,0,0])."
      ]
    },
    {
      "cell_type": "code",
      "metadata": {
        "colab": {
          "base_uri": "https://localhost:8080/"
        },
        "id": "rZ7wU4Dvv_R7",
        "outputId": "0cb601da-00d3-4fcf-b451-884ae2ee3d1b"
      },
      "source": [
        "from keras.utils.np_utils import to_categorical\n",
        "\n",
        "# Encode labels into hot vectors\n",
        "labels_train_hv = to_categorical(labels_train, num_classes=10)\n",
        "labels_test_hv = to_categorical(labels_test, num_classes=10)\n",
        "print(\"Example:\")\n",
        "print(\"Digit label: {} --> hot vector: {}\".format(labels_train[0], labels_train_hv[0]))"
      ],
      "execution_count": null,
      "outputs": [
        {
          "output_type": "stream",
          "text": [
            "Example:\n",
            "Digit label: 5 --> hot vector: [0. 0. 0. 0. 0. 1. 0. 0. 0. 0.]\n"
          ],
          "name": "stdout"
        }
      ]
    },
    {
      "cell_type": "markdown",
      "metadata": {
        "id": "dFuS2_f9x9n-"
      },
      "source": [
        "### Building and training the model"
      ]
    },
    {
      "cell_type": "markdown",
      "metadata": {
        "id": "ZIxdrcgxq55i"
      },
      "source": [
        "Now that the data is ready to be fit to the model, we need to define the architecture of the model and compile it with the necessary *optimizer function*, *loss function* and *performance metrics*.\\\n",
        "For this purpose I will use the Keras `Sequential` API that allows to add to the model one layer at a time, starting from the input one.\\\n",
        "The first two layers will be `Conv2D` layers of 64 and 32 neurons respectively, with a `ReLU` activation function and a `kernel size` of 3.\n",
        "I will then add a `Flatten` layers, which is used as connection between the convolutional and dense layer; the final `Dense` layer will be used for the output layer, with a `softmax` activation function. This output layer will have 10 nodes, the classes that we have to predict."
      ]
    },
    {
      "cell_type": "code",
      "metadata": {
        "colab": {
          "base_uri": "https://localhost:8080/"
        },
        "id": "GJcjtcxHuims",
        "outputId": "ba8c8d06-170c-4888-d9c1-3cf2ab8e65de"
      },
      "source": [
        "import keras\n",
        "from keras.models import Sequential\n",
        "from keras.layers import Dense, Conv2D, Flatten\n",
        "\n",
        "# Model creation\n",
        "cnn_model = Sequential()\n",
        "\n",
        "# Add model layers\n",
        "cnn_model.add(Conv2D(64, kernel_size=3, activation='relu', input_shape=(28, 28, 1)))\n",
        "cnn_model.add(Conv2D(32, kernel_size=3, activation='relu'))\n",
        "cnn_model.add(Flatten())\n",
        "cnn_model.add(Dense(10, activation='softmax'))\n",
        "\n",
        "# Visualizing the final architecture of the Neural Network\n",
        "cnn_model.summary()"
      ],
      "execution_count": null,
      "outputs": [
        {
          "output_type": "stream",
          "text": [
            "Model: \"sequential\"\n",
            "_________________________________________________________________\n",
            "Layer (type)                 Output Shape              Param #   \n",
            "=================================================================\n",
            "conv2d (Conv2D)              (None, 26, 26, 64)        640       \n",
            "_________________________________________________________________\n",
            "conv2d_1 (Conv2D)            (None, 24, 24, 32)        18464     \n",
            "_________________________________________________________________\n",
            "flatten (Flatten)            (None, 18432)             0         \n",
            "_________________________________________________________________\n",
            "dense (Dense)                (None, 10)                184330    \n",
            "=================================================================\n",
            "Total params: 203,434\n",
            "Trainable params: 203,434\n",
            "Non-trainable params: 0\n",
            "_________________________________________________________________\n"
          ],
          "name": "stdout"
        }
      ]
    },
    {
      "cell_type": "markdown",
      "metadata": {
        "id": "2mw3ZqK89r-R"
      },
      "source": [
        "Now that I've built the structure of the model, I have to compile it by defining an optimizer that controls and changes the attributes of the neural network (such as weights and learning rate) in order to minimize the losses, and the evaluation metrics.\\\n",
        "I will use the `adam` optimizer, the `categorical_crossentropy` as loss function and the `accuracy` as performace metric. "
      ]
    },
    {
      "cell_type": "code",
      "metadata": {
        "id": "nmazVuuzG2-Y"
      },
      "source": [
        "# Compiling the model\n",
        "cnn_model.compile(optimizer='adam', loss='categorical_crossentropy', metrics=['accuracy', keras.metrics.AUC()]) "
      ],
      "execution_count": null,
      "outputs": []
    },
    {
      "cell_type": "markdown",
      "metadata": {
        "id": "i8upu3aoHGr8"
      },
      "source": [
        "I can now train the model:"
      ]
    },
    {
      "cell_type": "code",
      "metadata": {
        "colab": {
          "base_uri": "https://localhost:8080/"
        },
        "id": "9tOO3ou0HZIh",
        "outputId": "a3bee51a-6b45-48b2-ef14-82f9112e0e00"
      },
      "source": [
        "# Defining the number epochs and the batch-size dimension.\n",
        "epochs = 20\n",
        "batch_size = 60\n",
        "\n",
        "# Trining the model\n",
        "cnn_history = cnn_model.fit(images_train_3d, \n",
        "                            labels_train_hv,  \n",
        "                            batch_size=batch_size,\n",
        "                            validation_data=(images_test_3d, labels_test_hv),\n",
        "                            epochs=epochs)"
      ],
      "execution_count": null,
      "outputs": [
        {
          "output_type": "stream",
          "text": [
            "Epoch 1/20\n",
            "1000/1000 [==============================] - 39s 10ms/step - loss: 0.1435 - accuracy: 0.9574 - auc: 0.9975 - val_loss: 0.0852 - val_accuracy: 0.9747 - val_auc: 0.9984\n",
            "Epoch 2/20\n",
            "1000/1000 [==============================] - 10s 10ms/step - loss: 0.0500 - accuracy: 0.9844 - auc: 0.9993 - val_loss: 0.0513 - val_accuracy: 0.9829 - val_auc: 0.9993\n",
            "Epoch 3/20\n",
            "1000/1000 [==============================] - 10s 10ms/step - loss: 0.0341 - accuracy: 0.9892 - auc: 0.9995 - val_loss: 0.0469 - val_accuracy: 0.9868 - val_auc: 0.9990\n",
            "Epoch 4/20\n",
            "1000/1000 [==============================] - 10s 10ms/step - loss: 0.0241 - accuracy: 0.9923 - auc: 0.9998 - val_loss: 0.0478 - val_accuracy: 0.9856 - val_auc: 0.9988\n",
            "Epoch 5/20\n",
            "1000/1000 [==============================] - 10s 10ms/step - loss: 0.0171 - accuracy: 0.9944 - auc: 0.9998 - val_loss: 0.0602 - val_accuracy: 0.9835 - val_auc: 0.9983\n",
            "Epoch 6/20\n",
            "1000/1000 [==============================] - 10s 10ms/step - loss: 0.0134 - accuracy: 0.9954 - auc: 0.9999 - val_loss: 0.0518 - val_accuracy: 0.9875 - val_auc: 0.9985\n",
            "Epoch 7/20\n",
            "1000/1000 [==============================] - 10s 10ms/step - loss: 0.0098 - accuracy: 0.9966 - auc: 0.9999 - val_loss: 0.0641 - val_accuracy: 0.9839 - val_auc: 0.9980\n",
            "Epoch 8/20\n",
            "1000/1000 [==============================] - 10s 10ms/step - loss: 0.0080 - accuracy: 0.9973 - auc: 0.9999 - val_loss: 0.0581 - val_accuracy: 0.9861 - val_auc: 0.9981\n",
            "Epoch 9/20\n",
            "1000/1000 [==============================] - 10s 10ms/step - loss: 0.0073 - accuracy: 0.9974 - auc: 1.0000 - val_loss: 0.0723 - val_accuracy: 0.9845 - val_auc: 0.9973\n",
            "Epoch 10/20\n",
            "1000/1000 [==============================] - 10s 10ms/step - loss: 0.0073 - accuracy: 0.9975 - auc: 0.9999 - val_loss: 0.0650 - val_accuracy: 0.9858 - val_auc: 0.9978\n",
            "Epoch 11/20\n",
            "1000/1000 [==============================] - 10s 10ms/step - loss: 0.0045 - accuracy: 0.9984 - auc: 1.0000 - val_loss: 0.0740 - val_accuracy: 0.9854 - val_auc: 0.9971\n",
            "Epoch 12/20\n",
            "1000/1000 [==============================] - 10s 10ms/step - loss: 0.0044 - accuracy: 0.9984 - auc: 1.0000 - val_loss: 0.0687 - val_accuracy: 0.9868 - val_auc: 0.9971\n",
            "Epoch 13/20\n",
            "1000/1000 [==============================] - 10s 10ms/step - loss: 0.0032 - accuracy: 0.9989 - auc: 1.0000 - val_loss: 0.0833 - val_accuracy: 0.9853 - val_auc: 0.9969\n",
            "Epoch 14/20\n",
            "1000/1000 [==============================] - 10s 10ms/step - loss: 0.0043 - accuracy: 0.9985 - auc: 0.9999 - val_loss: 0.0726 - val_accuracy: 0.9871 - val_auc: 0.9973\n",
            "Epoch 15/20\n",
            "1000/1000 [==============================] - 10s 10ms/step - loss: 0.0027 - accuracy: 0.9990 - auc: 1.0000 - val_loss: 0.0818 - val_accuracy: 0.9855 - val_auc: 0.9968\n",
            "Epoch 16/20\n",
            "1000/1000 [==============================] - 10s 10ms/step - loss: 0.0023 - accuracy: 0.9993 - auc: 1.0000 - val_loss: 0.0824 - val_accuracy: 0.9873 - val_auc: 0.9966\n",
            "Epoch 17/20\n",
            "1000/1000 [==============================] - 10s 10ms/step - loss: 0.0047 - accuracy: 0.9984 - auc: 0.9999 - val_loss: 0.0930 - val_accuracy: 0.9851 - val_auc: 0.9965\n",
            "Epoch 18/20\n",
            "1000/1000 [==============================] - 10s 10ms/step - loss: 0.0030 - accuracy: 0.9990 - auc: 1.0000 - val_loss: 0.0851 - val_accuracy: 0.9864 - val_auc: 0.9966\n",
            "Epoch 19/20\n",
            "1000/1000 [==============================] - 10s 10ms/step - loss: 9.5583e-04 - accuracy: 0.9997 - auc: 1.0000 - val_loss: 0.0859 - val_accuracy: 0.9869 - val_auc: 0.9968\n",
            "Epoch 20/20\n",
            "1000/1000 [==============================] - 10s 10ms/step - loss: 7.5984e-04 - accuracy: 0.9998 - auc: 1.0000 - val_loss: 0.1183 - val_accuracy: 0.9867 - val_auc: 0.9956\n"
          ],
          "name": "stdout"
        }
      ]
    },
    {
      "cell_type": "markdown",
      "metadata": {
        "id": "XzxSZlsZJLBq"
      },
      "source": [
        "### Evaluate the model "
      ]
    },
    {
      "cell_type": "markdown",
      "metadata": {
        "id": "cmLBiZ6Bv1H5"
      },
      "source": [
        "We can now evaluate the model performances computing the `cross entropy loss`, `accuracy` and `AUC` scores, obtained by comparing the predicted the images of the `images_test_3d` with the actual class present in the `images_test_hv` array.  "
      ]
    },
    {
      "cell_type": "code",
      "metadata": {
        "colab": {
          "base_uri": "https://localhost:8080/"
        },
        "id": "JIdOk4SguGQG",
        "outputId": "8384a6f0-c975-450f-c836-83e854ca9908"
      },
      "source": [
        "# Evalutating the model\n",
        "score = cnn_model.evaluate(images_test_3d, labels_test_hv, verbose=0)\n",
        "print('Test cross entropy loss:', score[0])\n",
        "print('\\nTest classification accuracy:', score[1])\n",
        "print('\\nTest classification AUC:', score[2])"
      ],
      "execution_count": null,
      "outputs": [
        {
          "output_type": "stream",
          "text": [
            "Test cross entropy loss: 0.11825521290302277\n",
            "\n",
            "Test classification accuracy: 0.9866999983787537\n",
            "\n",
            "Test classification AUC: 0.9955877661705017\n"
          ],
          "name": "stdout"
        }
      ]
    },
    {
      "cell_type": "markdown",
      "metadata": {
        "id": "ECPSpnFyxoeJ"
      },
      "source": [
        "Just by using this simple CNN architechture, the accuracy, the AUC score and the cross entropy loss of the model performances highlights some very good results, indeed compared to the performances of the Random Forest model (accuracy = 97%) we have a quite but significant improvement. "
      ]
    },
    {
      "cell_type": "markdown",
      "metadata": {
        "id": "J8NbivSkNz9D"
      },
      "source": [
        "I will now display the training and validation (test) curves of the model behaviour during the epochs.\\\n",
        "These plots are important for getting an idea of whether a model is overfitting, underfitting or have a good fit for the dataset."
      ]
    },
    {
      "cell_type": "code",
      "metadata": {
        "colab": {
          "base_uri": "https://localhost:8080/",
          "height": 585
        },
        "id": "kCh70-5JzuLK",
        "outputId": "c446f20d-cd71-4570-9ecf-b528317d7e2b"
      },
      "source": [
        "# Plotting the Model Accuracy\n",
        "fig = plt.figure(figsize=(8, 8))\n",
        "plt.subplot(2, 1, 1)\n",
        "plt.plot(cnn_history.history['accuracy'], color='blue')\n",
        "plt.plot(cnn_history.history['val_accuracy'], color='orange')\n",
        "plt.title('Model Accuracy', fontdict={'fontsize': 12, 'fontweight': 'bold'})\n",
        "plt.xlabel('Epochs')\n",
        "plt.xticks(np.arange(0, 20))\n",
        "plt.ylabel('Accuracy')\n",
        "plt.legend(['train', 'test'])\n",
        "\n",
        "# Plotting the Model Loss \n",
        "plt.subplot(2, 1, 2)\n",
        "plt.plot(cnn_history.history['loss'], color='blue')\n",
        "plt.plot(cnn_history.history['val_loss'], color='orange')\n",
        "plt.title('Model Loss', fontdict={'fontsize': 12, 'fontweight': 'bold'})\n",
        "plt.xlabel('Epochs')\n",
        "plt.xticks(np.arange(0, 20))\n",
        "plt.ylabel('Cross entropy loss')\n",
        "plt.legend(['train', 'test'], loc='upper center')\n",
        "\n",
        "plt.tight_layout()"
      ],
      "execution_count": null,
      "outputs": [
        {
          "output_type": "display_data",
          "data": {
            "image/png": "[encoded data removed]",
            "text/plain": [
              "<Figure size 576x576 with 2 Axes>"
            ]
          },
          "metadata": {
            "needs_background": "light"
          }
        }
      ]
    },
    {
      "cell_type": "markdown",
      "metadata": {
        "id": "7pQKKYLv2EqL"
      },
      "source": [
        "From these plots it's clear how the model is overfitting the training data. Indeed while the cross entropy loss of the training data is decreasing, the cross entropy loss of the test data is increasing, this means that the model is learning very well the training data, picking up all the details and the noise of the data but it is not able to then generalize on the test data.  \n",
        "To overcome this problem and improve the model performances, I can make some changes to the architecture of the Neuran Network model.  "
      ]
    },
    {
      "cell_type": "markdown",
      "metadata": {
        "id": "dlH7Dr8zO9RF"
      },
      "source": [
        "### Building and training the improved CNN model"
      ]
    },
    {
      "cell_type": "markdown",
      "metadata": {
        "id": "Ix1D24_U4fcU"
      },
      "source": [
        "One way to mitigate the overfitting risk in CNN is to add to the model a `Dropout` layer. This layer works by randomly ignoring some neurons of the hidden layers at each update of the training phase by setting their outgoing edges to 0. I will set the dropout rate equal to 0.5, so that there will be a 50% chance that the output of a give neuron will be forced to 0 (ignored).\\\n",
        "I will also add a `MaxPooling2D` layer after the two convolutional layers, this will reduce the dimensionality of the images by reducing the nuber of pixels from the output of the previous convolutional layer.\\\n",
        "In this way I will reduce the computational load through dimensionality reduction, this procedure will also help to prevent overfitting."
      ]
    },
    {
      "cell_type": "code",
      "metadata": {
        "colab": {
          "base_uri": "https://localhost:8080/"
        },
        "id": "Y_dg1Uncqyik",
        "outputId": "d750f256-7aec-4f0d-8aa4-8f21032d4480"
      },
      "source": [
        "# Importing the modules\n",
        "import keras\n",
        "from keras.models import Sequential\n",
        "from keras.layers import Dense, Conv2D, Flatten, Dropout, MaxPool2D\n",
        "\n",
        "# Model creation\n",
        "cnn_model_1 = Sequential()\n",
        "\n",
        "# Add model layers\n",
        "cnn_model_1.add(Conv2D(64, kernel_size=3, activation='relu', input_shape=(28,28,1)))\n",
        "cnn_model_1.add(MaxPool2D(pool_size=(2,2)))\n",
        "cnn_model_1.add(Conv2D(32, kernel_size=3, activation='relu'))\n",
        "cnn_model_1.add(MaxPool2D(pool_size=(2,2)))\n",
        "cnn_model_1.add(Flatten())\n",
        "cnn_model_1.add(Dropout(0.5))\n",
        "cnn_model_1.add(Dense(10, activation='softmax'))\n",
        "\n",
        "# Visualizing the final architecture of the Neural Network\n",
        "cnn_model_1.summary()"
      ],
      "execution_count": null,
      "outputs": [
        {
          "output_type": "stream",
          "text": [
            "Model: \"sequential_3\"\n",
            "_________________________________________________________________\n",
            "Layer (type)                 Output Shape              Param #   \n",
            "=================================================================\n",
            "conv2d_6 (Conv2D)            (None, 26, 26, 64)        640       \n",
            "_________________________________________________________________\n",
            "max_pooling2d_4 (MaxPooling2 (None, 13, 13, 64)        0         \n",
            "_________________________________________________________________\n",
            "conv2d_7 (Conv2D)            (None, 11, 11, 32)        18464     \n",
            "_________________________________________________________________\n",
            "max_pooling2d_5 (MaxPooling2 (None, 5, 5, 32)          0         \n",
            "_________________________________________________________________\n",
            "flatten_3 (Flatten)          (None, 800)               0         \n",
            "_________________________________________________________________\n",
            "dropout_2 (Dropout)          (None, 800)               0         \n",
            "_________________________________________________________________\n",
            "dense_3 (Dense)              (None, 10)                8010      \n",
            "=================================================================\n",
            "Total params: 27,114\n",
            "Trainable params: 27,114\n",
            "Non-trainable params: 0\n",
            "_________________________________________________________________\n"
          ],
          "name": "stdout"
        }
      ]
    },
    {
      "cell_type": "code",
      "metadata": {
        "id": "kaCQ2ZvFs31p"
      },
      "source": [
        "#Compiling the model\n",
        "cnn_model_1.compile(optimizer='adam', loss='categorical_crossentropy', metrics=['accuracy', keras.metrics.AUC()])"
      ],
      "execution_count": null,
      "outputs": []
    },
    {
      "cell_type": "code",
      "metadata": {
        "colab": {
          "base_uri": "https://localhost:8080/"
        },
        "id": "7vOcfdMetOot",
        "outputId": "f0d2f0bd-d72b-4d09-b1f5-3db8b4d9c455"
      },
      "source": [
        "epochs = 20\n",
        "batch_size = 60\n",
        "\n",
        "#Training of the model\n",
        "cnn_history_1 = cnn_model_1.fit(images_train_3d, \n",
        "                                labels_train_hv,  \n",
        "                                batch_size=batch_size,\n",
        "                                validation_data=(images_test_3d, labels_test_hv),\n",
        "                                epochs=epochs)"
      ],
      "execution_count": null,
      "outputs": [
        {
          "output_type": "stream",
          "text": [
            "Epoch 1/20\n",
            "1000/1000 [==============================] - 10s 10ms/step - loss: 0.0346 - accuracy: 0.9888 - auc_1: 0.9996 - val_loss: 0.0233 - val_accuracy: 0.9925 - val_auc_1: 0.9997\n",
            "Epoch 2/20\n",
            "1000/1000 [==============================] - 10s 10ms/step - loss: 0.0338 - accuracy: 0.9886 - auc_1: 0.9997 - val_loss: 0.0224 - val_accuracy: 0.9936 - val_auc_1: 0.9998\n",
            "Epoch 3/20\n",
            "1000/1000 [==============================] - 10s 10ms/step - loss: 0.0327 - accuracy: 0.9896 - auc_1: 0.9997 - val_loss: 0.0226 - val_accuracy: 0.9916 - val_auc_1: 0.9997\n",
            "Epoch 4/20\n",
            "1000/1000 [==============================] - 10s 10ms/step - loss: 0.0325 - accuracy: 0.9899 - auc_1: 0.9996 - val_loss: 0.0215 - val_accuracy: 0.9932 - val_auc_1: 0.9999\n",
            "Epoch 5/20\n",
            "1000/1000 [==============================] - 10s 10ms/step - loss: 0.0305 - accuracy: 0.9901 - auc_1: 0.9997 - val_loss: 0.0213 - val_accuracy: 0.9930 - val_auc_1: 0.9997\n",
            "Epoch 6/20\n",
            "1000/1000 [==============================] - 10s 10ms/step - loss: 0.0313 - accuracy: 0.9897 - auc_1: 0.9997 - val_loss: 0.0189 - val_accuracy: 0.9937 - val_auc_1: 0.9998\n",
            "Epoch 7/20\n",
            "1000/1000 [==============================] - 10s 10ms/step - loss: 0.0304 - accuracy: 0.9898 - auc_1: 0.9997 - val_loss: 0.0224 - val_accuracy: 0.9925 - val_auc_1: 0.9997\n",
            "Epoch 8/20\n",
            "1000/1000 [==============================] - 10s 10ms/step - loss: 0.0304 - accuracy: 0.9898 - auc_1: 0.9997 - val_loss: 0.0226 - val_accuracy: 0.9918 - val_auc_1: 0.9999\n",
            "Epoch 9/20\n",
            "1000/1000 [==============================] - 10s 10ms/step - loss: 0.0299 - accuracy: 0.9898 - auc_1: 0.9997 - val_loss: 0.0201 - val_accuracy: 0.9926 - val_auc_1: 0.9998\n",
            "Epoch 10/20\n",
            "1000/1000 [==============================] - 10s 10ms/step - loss: 0.0290 - accuracy: 0.9902 - auc_1: 0.9997 - val_loss: 0.0228 - val_accuracy: 0.9920 - val_auc_1: 0.9996\n",
            "Epoch 11/20\n",
            "1000/1000 [==============================] - 10s 10ms/step - loss: 0.0285 - accuracy: 0.9910 - auc_1: 0.9997 - val_loss: 0.0206 - val_accuracy: 0.9934 - val_auc_1: 0.9997\n",
            "Epoch 12/20\n",
            "1000/1000 [==============================] - 10s 10ms/step - loss: 0.0283 - accuracy: 0.9905 - auc_1: 0.9996 - val_loss: 0.0198 - val_accuracy: 0.9933 - val_auc_1: 0.9998\n",
            "Epoch 13/20\n",
            "1000/1000 [==============================] - 10s 10ms/step - loss: 0.0271 - accuracy: 0.9907 - auc_1: 0.9997 - val_loss: 0.0210 - val_accuracy: 0.9933 - val_auc_1: 0.9997\n",
            "Epoch 14/20\n",
            "1000/1000 [==============================] - 10s 10ms/step - loss: 0.0266 - accuracy: 0.9911 - auc_1: 0.9997 - val_loss: 0.0209 - val_accuracy: 0.9934 - val_auc_1: 0.9998\n",
            "Epoch 15/20\n",
            "1000/1000 [==============================] - 10s 10ms/step - loss: 0.0272 - accuracy: 0.9911 - auc_1: 0.9998 - val_loss: 0.0196 - val_accuracy: 0.9939 - val_auc_1: 0.9997\n",
            "Epoch 16/20\n",
            "1000/1000 [==============================] - 10s 10ms/step - loss: 0.0274 - accuracy: 0.9909 - auc_1: 0.9997 - val_loss: 0.0206 - val_accuracy: 0.9934 - val_auc_1: 0.9997\n",
            "Epoch 17/20\n",
            "1000/1000 [==============================] - 10s 10ms/step - loss: 0.0260 - accuracy: 0.9911 - auc_1: 0.9997 - val_loss: 0.0196 - val_accuracy: 0.9928 - val_auc_1: 0.9998\n",
            "Epoch 18/20\n",
            "1000/1000 [==============================] - 10s 10ms/step - loss: 0.0256 - accuracy: 0.9916 - auc_1: 0.9997 - val_loss: 0.0194 - val_accuracy: 0.9931 - val_auc_1: 0.9998\n",
            "Epoch 19/20\n",
            "1000/1000 [==============================] - 10s 10ms/step - loss: 0.0251 - accuracy: 0.9918 - auc_1: 0.9998 - val_loss: 0.0226 - val_accuracy: 0.9931 - val_auc_1: 0.9994\n",
            "Epoch 20/20\n",
            "1000/1000 [==============================] - 10s 10ms/step - loss: 0.0252 - accuracy: 0.9917 - auc_1: 0.9997 - val_loss: 0.0211 - val_accuracy: 0.9941 - val_auc_1: 0.9998\n"
          ],
          "name": "stdout"
        }
      ]
    },
    {
      "cell_type": "markdown",
      "metadata": {
        "id": "Isr-WW1N3F5m"
      },
      "source": [
        "### Evaluate the model"
      ]
    },
    {
      "cell_type": "code",
      "metadata": {
        "colab": {
          "base_uri": "https://localhost:8080/"
        },
        "id": "CafnOmlYtdTd",
        "outputId": "378833b6-9681-460e-a085-a63381a6e187"
      },
      "source": [
        "# Evaluating the model\n",
        "score_1 = cnn_model_1.evaluate(images_test_3d, labels_test_hv, verbose=0)\n",
        "print('Test cross entropy loss:', score_1[0])\n",
        "print('\\nTest classification accuracy:', score_1[1])\n",
        "print('\\nTest classification AUC:', score_1[2])"
      ],
      "execution_count": null,
      "outputs": [
        {
          "output_type": "stream",
          "text": [
            "Test cross entropy loss: 0.021115969866514206\n",
            "\n",
            "Test classification accuracy: 0.9940999746322632\n",
            "\n",
            "Test classification AUC: 0.999759316444397\n"
          ],
          "name": "stdout"
        }
      ]
    },
    {
      "cell_type": "markdown",
      "metadata": {
        "id": "IwCA98iIxgYO"
      },
      "source": [
        "By changing the architecture of the CNN, the Accuracy and AUC performances of the model have further increased, moreover the loss cross entropy is significantly smaller than the one obtained with the first CNN model, all these metrics confirm the goodness of the model and the better prediction ability in respect to the first model."
      ]
    },
    {
      "cell_type": "markdown",
      "metadata": {
        "id": "hApjbJu85Lp6"
      },
      "source": [
        "I can now plot the training and validation curves of the model behaviour during the different epochs, to see if the model is still overfitting the data."
      ]
    },
    {
      "cell_type": "code",
      "metadata": {
        "colab": {
          "base_uri": "https://localhost:8080/",
          "height": 585
        },
        "id": "0C92aeyQ57Ol",
        "outputId": "1bfa2051-a2e9-4f99-bda7-13c391e4d1d1"
      },
      "source": [
        "# Plotting the Model Accuracy\n",
        "fig = plt.figure(figsize=(8, 8))\n",
        "plt.subplot(2, 1, 1)\n",
        "plt.plot(cnn_history_1.history['accuracy'], color='blue')\n",
        "plt.plot(cnn_history_1.history['val_accuracy'], color='orange')\n",
        "plt.title('Model Accuracy', fontdict={'fontsize': 12, 'fontweight': 'bold'})\n",
        "plt.xlabel('Epochs')\n",
        "plt.xticks(np.arange(0, 20))\n",
        "plt.ylabel('Accuracy')\n",
        "plt.legend(['train', 'test'])\n",
        "\n",
        "# Plotting the Model Loss \n",
        "plt.subplot(2, 1, 2)\n",
        "plt.plot(cnn_history_1.history['loss'], color='blue')\n",
        "plt.plot(cnn_history_1.history['val_loss'], color='orange')\n",
        "plt.title('Model Loss', fontdict={'fontsize': 12, 'fontweight': 'bold'})\n",
        "plt.xlabel('Epochs')\n",
        "plt.xticks(np.arange(0, 20))\n",
        "plt.ylabel('Cross entropy loss')\n",
        "plt.legend(['train', 'test'], loc='upper center')\n",
        "\n",
        "plt.tight_layout()"
      ],
      "execution_count": null,
      "outputs": [
        {
          "output_type": "display_data",
          "data": {
            "image/png": "[encoded data removed]",
            "text/plain": [
              "<Figure size 576x576 with 2 Axes>"
            ]
          },
          "metadata": {
            "needs_background": "light"
          }
        }
      ]
    },
    {
      "cell_type": "markdown",
      "metadata": {
        "id": "IqMQR4D_6jTM"
      },
      "source": [
        "It is clear now that the model is not overfitting the training data since the cross-entropy loss of the test data is decreasing as the cross-entropy loss of the training data decreases.\\\n",
        "In general the model shows a very good performances, even if it could always be improved using more complex CNN architectures."
      ]
    },
    {
      "cell_type": "markdown",
      "metadata": {
        "id": "UHmGwPhsJkBL"
      },
      "source": [
        "With this work we have highlighted how the simpler models, such as the Decision Tree and the Random Forest Classifiers are not able to achieve the same very high accuracy score obtained instead from the more complex and better suited CNN models. \n",
        " "
      ]
    }
  ]
}